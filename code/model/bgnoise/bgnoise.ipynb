{
 "cells": [
  {
   "cell_type": "markdown",
   "metadata": {},
   "source": [
    "# Detecting the Level of Background Noise in audio"
   ]
  },
  {
   "cell_type": "code",
   "execution_count": 3,
   "metadata": {},
   "outputs": [],
   "source": [
    "import pandas as pd\n",
    "import numpy as np\n",
    "import matplotlib\n",
    "import matplotlib.pyplot as plt\n",
    "import pickle\n",
    "\n",
    "from sklearn.model_selection import train_test_split\n",
    "from sklearn.metrics import ConfusionMatrixDisplay, classification_report\n",
    "from sklearn.svm import LinearSVC\n",
    "from sklearn.ensemble import RandomForestClassifier\n",
    "from sklearn.linear_model import LogisticRegression\n",
    "from sklearn.neighbors import KNeighborsClassifier\n",
    "from sklearn.neural_network import MLPClassifier"
   ]
  },
  {
   "cell_type": "markdown",
   "metadata": {},
   "source": [
    "## Data formatting"
   ]
  },
  {
   "cell_type": "code",
   "execution_count": 4,
   "metadata": {},
   "outputs": [
    {
     "name": "stderr",
     "output_type": "stream",
     "text": [
      "C:\\Users\\samri\\AppData\\Local\\Temp\\ipykernel_11540\\2771989290.py:4: FutureWarning: Downcasting behavior in `replace` is deprecated and will be removed in a future version. To retain the old behavior, explicitly call `result.infer_objects(copy=False)`. To opt-in to the future behavior, set `pd.set_option('future.no_silent_downcasting', True)`\n",
      "  data['label'] = data['label'].replace('high', 2)\n"
     ]
    },
    {
     "data": {
      "text/html": [
       "<div>\n",
       "<style scoped>\n",
       "    .dataframe tbody tr th:only-of-type {\n",
       "        vertical-align: middle;\n",
       "    }\n",
       "\n",
       "    .dataframe tbody tr th {\n",
       "        vertical-align: top;\n",
       "    }\n",
       "\n",
       "    .dataframe thead th {\n",
       "        text-align: right;\n",
       "    }\n",
       "</style>\n",
       "<table border=\"1\" class=\"dataframe\">\n",
       "  <thead>\n",
       "    <tr style=\"text-align: right;\">\n",
       "      <th></th>\n",
       "      <th>label</th>\n",
       "      <th>mfccs</th>\n",
       "      <th>chroma_stft</th>\n",
       "      <th>spectral_centroid</th>\n",
       "      <th>spectral_bandwidth</th>\n",
       "      <th>spectral_rolloff</th>\n",
       "      <th>zero_crossing_rate</th>\n",
       "      <th>rms</th>\n",
       "      <th>poly_features</th>\n",
       "      <th>tonnetz</th>\n",
       "      <th>mel_spectrogram</th>\n",
       "      <th>spectral_contrast</th>\n",
       "    </tr>\n",
       "  </thead>\n",
       "  <tbody>\n",
       "    <tr>\n",
       "      <th>0</th>\n",
       "      <td>0</td>\n",
       "      <td>-12.118624</td>\n",
       "      <td>0.455088</td>\n",
       "      <td>1732.911934</td>\n",
       "      <td>1547.758216</td>\n",
       "      <td>3330.189196</td>\n",
       "      <td>0.100148</td>\n",
       "      <td>0.021002</td>\n",
       "      <td>0.261644</td>\n",
       "      <td>0.000280</td>\n",
       "      <td>0.151428</td>\n",
       "      <td>22.500513</td>\n",
       "    </tr>\n",
       "    <tr>\n",
       "      <th>1</th>\n",
       "      <td>0</td>\n",
       "      <td>-12.408580</td>\n",
       "      <td>0.391813</td>\n",
       "      <td>1926.673503</td>\n",
       "      <td>1486.158380</td>\n",
       "      <td>3398.032116</td>\n",
       "      <td>0.140800</td>\n",
       "      <td>0.035025</td>\n",
       "      <td>0.398767</td>\n",
       "      <td>0.005051</td>\n",
       "      <td>0.385223</td>\n",
       "      <td>24.144890</td>\n",
       "    </tr>\n",
       "    <tr>\n",
       "      <th>2</th>\n",
       "      <td>0</td>\n",
       "      <td>-14.399076</td>\n",
       "      <td>0.415932</td>\n",
       "      <td>1493.304564</td>\n",
       "      <td>1371.833468</td>\n",
       "      <td>2775.292040</td>\n",
       "      <td>0.089098</td>\n",
       "      <td>0.025171</td>\n",
       "      <td>0.290828</td>\n",
       "      <td>0.003366</td>\n",
       "      <td>0.265907</td>\n",
       "      <td>22.921880</td>\n",
       "    </tr>\n",
       "    <tr>\n",
       "      <th>3</th>\n",
       "      <td>0</td>\n",
       "      <td>-15.140317</td>\n",
       "      <td>0.312100</td>\n",
       "      <td>1788.898397</td>\n",
       "      <td>1604.712814</td>\n",
       "      <td>3271.031841</td>\n",
       "      <td>0.104681</td>\n",
       "      <td>0.046138</td>\n",
       "      <td>0.402851</td>\n",
       "      <td>0.004308</td>\n",
       "      <td>0.726101</td>\n",
       "      <td>25.222640</td>\n",
       "    </tr>\n",
       "    <tr>\n",
       "      <th>4</th>\n",
       "      <td>0</td>\n",
       "      <td>-17.082851</td>\n",
       "      <td>0.397885</td>\n",
       "      <td>2091.568985</td>\n",
       "      <td>1758.813735</td>\n",
       "      <td>4009.887232</td>\n",
       "      <td>0.143542</td>\n",
       "      <td>0.032982</td>\n",
       "      <td>0.319061</td>\n",
       "      <td>-0.002882</td>\n",
       "      <td>0.425109</td>\n",
       "      <td>23.197930</td>\n",
       "    </tr>\n",
       "    <tr>\n",
       "      <th>...</th>\n",
       "      <td>...</td>\n",
       "      <td>...</td>\n",
       "      <td>...</td>\n",
       "      <td>...</td>\n",
       "      <td>...</td>\n",
       "      <td>...</td>\n",
       "      <td>...</td>\n",
       "      <td>...</td>\n",
       "      <td>...</td>\n",
       "      <td>...</td>\n",
       "      <td>...</td>\n",
       "      <td>...</td>\n",
       "    </tr>\n",
       "    <tr>\n",
       "      <th>3295</th>\n",
       "      <td>2</td>\n",
       "      <td>-4.116476</td>\n",
       "      <td>0.380773</td>\n",
       "      <td>1395.591307</td>\n",
       "      <td>1542.831774</td>\n",
       "      <td>2866.565935</td>\n",
       "      <td>0.068662</td>\n",
       "      <td>0.076352</td>\n",
       "      <td>1.095193</td>\n",
       "      <td>0.002820</td>\n",
       "      <td>1.470585</td>\n",
       "      <td>22.882074</td>\n",
       "    </tr>\n",
       "    <tr>\n",
       "      <th>3296</th>\n",
       "      <td>2</td>\n",
       "      <td>-4.808410</td>\n",
       "      <td>0.462839</td>\n",
       "      <td>1620.362385</td>\n",
       "      <td>1591.303296</td>\n",
       "      <td>3119.865398</td>\n",
       "      <td>0.090697</td>\n",
       "      <td>0.042342</td>\n",
       "      <td>0.542329</td>\n",
       "      <td>-0.002770</td>\n",
       "      <td>0.594997</td>\n",
       "      <td>22.639281</td>\n",
       "    </tr>\n",
       "    <tr>\n",
       "      <th>3297</th>\n",
       "      <td>2</td>\n",
       "      <td>-6.858592</td>\n",
       "      <td>0.397525</td>\n",
       "      <td>1926.937648</td>\n",
       "      <td>1748.966893</td>\n",
       "      <td>3647.370324</td>\n",
       "      <td>0.114342</td>\n",
       "      <td>0.064320</td>\n",
       "      <td>0.776456</td>\n",
       "      <td>-0.009003</td>\n",
       "      <td>1.200151</td>\n",
       "      <td>24.252625</td>\n",
       "    </tr>\n",
       "    <tr>\n",
       "      <th>3298</th>\n",
       "      <td>2</td>\n",
       "      <td>-10.711108</td>\n",
       "      <td>0.357874</td>\n",
       "      <td>1878.183590</td>\n",
       "      <td>1528.339699</td>\n",
       "      <td>3398.688032</td>\n",
       "      <td>0.119867</td>\n",
       "      <td>0.050409</td>\n",
       "      <td>0.678896</td>\n",
       "      <td>-0.007200</td>\n",
       "      <td>0.724871</td>\n",
       "      <td>23.372391</td>\n",
       "    </tr>\n",
       "    <tr>\n",
       "      <th>3299</th>\n",
       "      <td>2</td>\n",
       "      <td>-9.469282</td>\n",
       "      <td>0.399004</td>\n",
       "      <td>1678.754434</td>\n",
       "      <td>1686.836518</td>\n",
       "      <td>3373.112937</td>\n",
       "      <td>0.091371</td>\n",
       "      <td>0.051356</td>\n",
       "      <td>0.665672</td>\n",
       "      <td>-0.002627</td>\n",
       "      <td>0.895944</td>\n",
       "      <td>24.293667</td>\n",
       "    </tr>\n",
       "  </tbody>\n",
       "</table>\n",
       "<p>3300 rows × 12 columns</p>\n",
       "</div>"
      ],
      "text/plain": [
       "      label      mfccs  chroma_stft  spectral_centroid  spectral_bandwidth  \\\n",
       "0         0 -12.118624     0.455088        1732.911934         1547.758216   \n",
       "1         0 -12.408580     0.391813        1926.673503         1486.158380   \n",
       "2         0 -14.399076     0.415932        1493.304564         1371.833468   \n",
       "3         0 -15.140317     0.312100        1788.898397         1604.712814   \n",
       "4         0 -17.082851     0.397885        2091.568985         1758.813735   \n",
       "...     ...        ...          ...                ...                 ...   \n",
       "3295      2  -4.116476     0.380773        1395.591307         1542.831774   \n",
       "3296      2  -4.808410     0.462839        1620.362385         1591.303296   \n",
       "3297      2  -6.858592     0.397525        1926.937648         1748.966893   \n",
       "3298      2 -10.711108     0.357874        1878.183590         1528.339699   \n",
       "3299      2  -9.469282     0.399004        1678.754434         1686.836518   \n",
       "\n",
       "      spectral_rolloff  zero_crossing_rate       rms  poly_features   tonnetz  \\\n",
       "0          3330.189196            0.100148  0.021002       0.261644  0.000280   \n",
       "1          3398.032116            0.140800  0.035025       0.398767  0.005051   \n",
       "2          2775.292040            0.089098  0.025171       0.290828  0.003366   \n",
       "3          3271.031841            0.104681  0.046138       0.402851  0.004308   \n",
       "4          4009.887232            0.143542  0.032982       0.319061 -0.002882   \n",
       "...                ...                 ...       ...            ...       ...   \n",
       "3295       2866.565935            0.068662  0.076352       1.095193  0.002820   \n",
       "3296       3119.865398            0.090697  0.042342       0.542329 -0.002770   \n",
       "3297       3647.370324            0.114342  0.064320       0.776456 -0.009003   \n",
       "3298       3398.688032            0.119867  0.050409       0.678896 -0.007200   \n",
       "3299       3373.112937            0.091371  0.051356       0.665672 -0.002627   \n",
       "\n",
       "      mel_spectrogram  spectral_contrast  \n",
       "0            0.151428          22.500513  \n",
       "1            0.385223          24.144890  \n",
       "2            0.265907          22.921880  \n",
       "3            0.726101          25.222640  \n",
       "4            0.425109          23.197930  \n",
       "...               ...                ...  \n",
       "3295         1.470585          22.882074  \n",
       "3296         0.594997          22.639281  \n",
       "3297         1.200151          24.252625  \n",
       "3298         0.724871          23.372391  \n",
       "3299         0.895944          24.293667  \n",
       "\n",
       "[3300 rows x 12 columns]"
      ]
     },
     "execution_count": 4,
     "metadata": {},
     "output_type": "execute_result"
    }
   ],
   "source": [
    "data = pd.read_csv('features.csv')\n",
    "data['label'] = data['label'].replace('low', 0)\n",
    "data['label'] = data['label'].replace('medium', 1)\n",
    "data['label'] = data['label'].replace('high', 2)\n",
    "data = data.drop('path', axis=1)\n",
    "data"
   ]
  },
  {
   "cell_type": "code",
   "execution_count": 5,
   "metadata": {},
   "outputs": [],
   "source": [
    "X = data.drop('label', axis=1)\n",
    "y = data['label']"
   ]
  },
  {
   "cell_type": "code",
   "execution_count": 6,
   "metadata": {},
   "outputs": [
    {
     "name": "stdout",
     "output_type": "stream",
     "text": [
      "(2310, 11)\n",
      "(2310,)\n",
      "(990, 11)\n",
      "(990,)\n"
     ]
    }
   ],
   "source": [
    "X_train, X_test, y_train, y_test = train_test_split(X, y, test_size=0.3)\n",
    "print(X_train.shape)\n",
    "print(y_train.shape)\n",
    "print(X_test.shape)\n",
    "print(y_test.shape)"
   ]
  },
  {
   "cell_type": "code",
   "execution_count": 7,
   "metadata": {},
   "outputs": [
    {
     "data": {
      "text/plain": [
       "label\n",
       "1    345\n",
       "0    330\n",
       "2    315\n",
       "Name: count, dtype: int64"
      ]
     },
     "execution_count": 7,
     "metadata": {},
     "output_type": "execute_result"
    }
   ],
   "source": [
    "y_test.value_counts()"
   ]
  },
  {
   "cell_type": "markdown",
   "metadata": {},
   "source": [
    "## Predicting"
   ]
  },
  {
   "cell_type": "code",
   "execution_count": 8,
   "metadata": {},
   "outputs": [],
   "source": [
    "model = RandomForestClassifier()\n",
    "# model.fit(X_train, y_train)"
   ]
  },
  {
   "cell_type": "code",
   "execution_count": 9,
   "metadata": {},
   "outputs": [],
   "source": [
    "# preds = model.predict(X_test)"
   ]
  },
  {
   "cell_type": "code",
   "execution_count": 10,
   "metadata": {},
   "outputs": [],
   "source": [
    "# print(classification_report(y_test, preds))\n",
    "# ConfusionMatrixDisplay.from_predictions(y_test, preds)"
   ]
  },
  {
   "cell_type": "markdown",
   "metadata": {},
   "source": [
    "## Predictions for all models"
   ]
  },
  {
   "cell_type": "code",
   "execution_count": 11,
   "metadata": {},
   "outputs": [],
   "source": [
    "models = [\n",
    "    {\n",
    "        'name': 'Random Forest',\n",
    "        'model': RandomForestClassifier(),\n",
    "    },\n",
    "    {\n",
    "        'name': 'SVM',\n",
    "        'model': LinearSVC()\n",
    "    },\n",
    "    {\n",
    "        'name': 'Logistic Regression',\n",
    "        'model': LogisticRegression()\n",
    "    },\n",
    "    {\n",
    "        'name': 'KNN',\n",
    "        'model': KNeighborsClassifier()\n",
    "    },\n",
    "    {\n",
    "        'name': 'MLP',\n",
    "        'model': MLPClassifier()\n",
    "    }\n",
    "]"
   ]
  },
  {
   "cell_type": "code",
   "execution_count": 12,
   "metadata": {},
   "outputs": [
    {
     "name": "stdout",
     "output_type": "stream",
     "text": [
      "############################ Random Forest ############################\n",
      "              precision    recall  f1-score   support\n",
      "\n",
      "           0       0.60      0.73      0.66       330\n",
      "           1       0.49      0.43      0.46       345\n",
      "           2       0.73      0.67      0.70       315\n",
      "\n",
      "    accuracy                           0.60       990\n",
      "   macro avg       0.61      0.61      0.60       990\n",
      "weighted avg       0.60      0.60      0.60       990\n",
      "\n"
     ]
    },
    {
     "name": "stderr",
     "output_type": "stream",
     "text": [
      "d:\\Code\\redtag\\code\\venv\\lib\\site-packages\\sklearn\\svm\\_classes.py:31: FutureWarning: The default value of `dual` will change from `True` to `'auto'` in 1.5. Set the value of `dual` explicitly to suppress the warning.\n",
      "  warnings.warn(\n",
      "d:\\Code\\redtag\\code\\venv\\lib\\site-packages\\sklearn\\svm\\_base.py:1237: ConvergenceWarning: Liblinear failed to converge, increase the number of iterations.\n",
      "  warnings.warn(\n",
      "d:\\Code\\redtag\\code\\venv\\lib\\site-packages\\sklearn\\linear_model\\_logistic.py:469: ConvergenceWarning: lbfgs failed to converge (status=1):\n",
      "STOP: TOTAL NO. of ITERATIONS REACHED LIMIT.\n",
      "\n",
      "Increase the number of iterations (max_iter) or scale the data as shown in:\n",
      "    https://scikit-learn.org/stable/modules/preprocessing.html\n",
      "Please also refer to the documentation for alternative solver options:\n",
      "    https://scikit-learn.org/stable/modules/linear_model.html#logistic-regression\n",
      "  n_iter_i = _check_optimize_result(\n"
     ]
    },
    {
     "name": "stdout",
     "output_type": "stream",
     "text": [
      "############################ SVM ############################\n",
      "              precision    recall  f1-score   support\n",
      "\n",
      "           0       0.46      0.98      0.62       330\n",
      "           1       0.30      0.24      0.27       345\n",
      "           2       1.00      0.01      0.03       315\n",
      "\n",
      "    accuracy                           0.41       990\n",
      "   macro avg       0.59      0.41      0.31       990\n",
      "weighted avg       0.57      0.41      0.31       990\n",
      "\n",
      "############################ Logistic Regression ############################\n",
      "              precision    recall  f1-score   support\n",
      "\n",
      "           0       0.58      0.78      0.66       330\n",
      "           1       0.48      0.30      0.37       345\n",
      "           2       0.64      0.67      0.66       315\n",
      "\n",
      "    accuracy                           0.58       990\n",
      "   macro avg       0.57      0.58      0.56       990\n",
      "weighted avg       0.56      0.58      0.56       990\n",
      "\n",
      "############################ KNN ############################\n",
      "              precision    recall  f1-score   support\n",
      "\n",
      "           0       0.52      0.63      0.57       330\n",
      "           1       0.43      0.39      0.41       345\n",
      "           2       0.62      0.54      0.58       315\n",
      "\n",
      "    accuracy                           0.52       990\n",
      "   macro avg       0.52      0.52      0.52       990\n",
      "weighted avg       0.52      0.52      0.52       990\n",
      "\n",
      "############################ MLP ############################\n",
      "              precision    recall  f1-score   support\n",
      "\n",
      "           0       0.52      0.51      0.51       330\n",
      "           1       0.39      0.62      0.48       345\n",
      "           2       0.84      0.31      0.45       315\n",
      "\n",
      "    accuracy                           0.48       990\n",
      "   macro avg       0.58      0.48      0.48       990\n",
      "weighted avg       0.57      0.48      0.48       990\n",
      "\n"
     ]
    }
   ],
   "source": [
    "for m in models:\n",
    "    m['model'].fit(X_train, y_train)\n",
    "    y_pred = m['model'].predict(X_test)\n",
    "    m['y_pred'] = y_pred\n",
    "    print(f\"############################ {m['name']} ############################\")\n",
    "    print(classification_report(y_test, y_pred))\n",
    "    # ConfusionMatrixDisplay.from_predictions(y_test, y_pred)"
   ]
  },
  {
   "cell_type": "markdown",
   "metadata": {},
   "source": [
    "## Pickling Random Forest"
   ]
  },
  {
   "cell_type": "code",
   "execution_count": null,
   "metadata": {},
   "outputs": [],
   "source": [
    "m = models[0]\n",
    "with open(\"bgnoise_model.pkl\", 'wb') as file:\n",
    "    pickle.dump(m['model'], file)"
   ]
  }
 ],
 "metadata": {
  "kernelspec": {
   "display_name": "venv",
   "language": "python",
   "name": "python3"
  },
  "language_info": {
   "codemirror_mode": {
    "name": "ipython",
    "version": 3
   },
   "file_extension": ".py",
   "mimetype": "text/x-python",
   "name": "python",
   "nbconvert_exporter": "python",
   "pygments_lexer": "ipython3",
   "version": "3.10.4"
  }
 },
 "nbformat": 4,
 "nbformat_minor": 2
}
